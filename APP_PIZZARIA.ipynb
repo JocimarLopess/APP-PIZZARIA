{
  "nbformat": 4,
  "nbformat_minor": 0,
  "metadata": {
    "colab": {
      "name": "APP PIZZARIA.ipynb",
      "provenance": [],
      "authorship_tag": "ABX9TyN/3yXNDfPRruNC4VBAZgts",
      "include_colab_link": true
    },
    "kernelspec": {
      "name": "python3",
      "display_name": "Python 3"
    },
    "language_info": {
      "name": "python"
    }
  },
  "cells": [
    {
      "cell_type": "markdown",
      "metadata": {
        "id": "view-in-github",
        "colab_type": "text"
      },
      "source": [
        "<a href=\"https://colab.research.google.com/github/JocimarLopess/APP-PIZZARIA/blob/main/APP_PIZZARIA.ipynb\" target=\"_parent\"><img src=\"https://colab.research.google.com/assets/colab-badge.svg\" alt=\"Open In Colab\"/></a>"
      ]
    },
    {
      "cell_type": "markdown",
      "source": [
        "APP SOLICITAÇÃO DE PEDIDOS NA PIZZARIA"
      ],
      "metadata": {
        "id": "fOr3S7PN8fPc"
      }
    },
    {
      "cell_type": "code",
      "execution_count": null,
      "metadata": {
        "id": "V__5zPcu8Yxk"
      },
      "outputs": [],
      "source": [
        "acumulador = 0 # Soma todos os valores dos pedidos.\n",
        "print('     Seja bem vindo a pizzaria do Jocimar Lopes    ')\n",
        "print('----------------------Cardápio-------------------------')\n",
        "print('| Código |   Descrição   | Pizza Média | Pizza Grande |')\n",
        "print('|   21   |   Napolitana  |  R$ 20,00   |   R$ 26,00   |')\n",
        "print('|   22   |   Margherita  |  R$ 20,00   |   R$ 26,00   |')\n",
        "print('|   23   |   Calabresa   |  R$ 25,00   |   R$ 32,50   |')\n",
        "print('|   24   |   Toscana     |  R$ 30,00   |   R$ 39,00   |')\n",
        "print('|   25   |   Portuguesa  |  R$ 30,00   |   R$ 39,00   |')\n",
        "print('-------------------------------------------------------')\n",
        "while True:\n",
        "    tamanho = input('Qual tamanho de pizza que deseja (M/G): ').lower()\n",
        "    if tamanho != 'g' and tamanho != 'm':\n",
        "        print('Opção Invalida')\n",
        "        continue\n",
        "    codigo = input('Entre com o código do sabor desejado: ') # Aonde será inserido o código dos pedidos\n",
        "\n",
        "    if tamanho == 'g' and codigo == '21':\n",
        "        acumulador = acumulador + 26 # O total guarda o valor final dos pedidos\n",
        "        print('Você pediu uma Pizza Napolitana.')\n",
        "\n",
        "    elif tamanho == 'm' and codigo == '21':\n",
        "        acumulador = acumulador + 20\n",
        "        print('Você pediu uma Pizza Napolitana.')\n",
        "\n",
        "    elif tamanho == 'g' and codigo == '22':\n",
        "        acumulador = acumulador + 26\n",
        "        print('Você pediu uma Pizza Margherita.')\n",
        "\n",
        "    elif tamanho == 'm' and codigo == '22':\n",
        "        acumulador = acumulador + 20\n",
        "        print('Você pediu uma Pizza Margherita.')  \n",
        "\n",
        "    elif tamanho == 'g' and codigo == '23':\n",
        "        acumulador = acumulador + 32,50\n",
        "        print('Você pediu uma Pizza Calabresa.')\n",
        "\n",
        "    elif tamanho == 'm' and codigo == '23':\n",
        "        acumulador = acumulador + 25\n",
        "        print('Você pediu uma Pizza Calabresa.')\n",
        "\n",
        "    elif tamanho == 'g' and codigo == '24':\n",
        "        acumulador = acumulador + 39\n",
        "        print('Você pediu uma Pizza Toscana.')\n",
        "\n",
        "    elif tamanho == 'm' and codigo == '24':\n",
        "        acumulador = acumulador + 30\n",
        "        print('Você pediu uma Pizza Toscana.')\n",
        "\n",
        "    elif tamanho == 'g' and codigo == '25':\n",
        "        acumulador = acumulador + 39\n",
        "        print('Você pediu uma Pizza Portuguesa.')\n",
        "\n",
        "    elif tamanho == 'm' and codigo == '25':\n",
        "        acumulador = acumulador + 30\n",
        "        print('Você pediu uma Pizza Portuguesa.')\n",
        "\n",
        "    else: # Caso o cliente digite o código errado, entra nesse else\n",
        "        print('Opção Inválida')\n",
        "        continue\n",
        "\n",
        "    resposta = input('Deseja pedir mais alguma coisa?\\n1 - SIM\\n0 - Não\\n>>')\n",
        "    if resposta == '1':\n",
        "        continue\n",
        "    else: # Caso o cliente não queira mais pedidos, entra nesse else encerrando\n",
        "        print('O total a ser pago é: {:.2f}'.format(acumulador))\n",
        "        break"
      ]
    }
  ]
}